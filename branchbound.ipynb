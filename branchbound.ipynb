{
 "cells": [
  {
   "cell_type": "code",
   "execution_count": 1,
   "metadata": {},
   "outputs": [
    {
     "name": "stdout",
     "output_type": "stream",
     "text": [
      "Maximum value: 220\n"
     ]
    }
   ],
   "source": [
    "import heapq\n",
    "\n",
    "def bound(level, value, weight, W, items):\n",
    "    if weight >= W:\n",
    "        return 0  \n",
    "\n",
    "    value_bound = value\n",
    "    j = level + 1\n",
    "    total_weight = weight\n",
    "\n",
    "    while j < len(items) and total_weight + items[j][1] <= W:\n",
    "        total_weight += items[j][1]\n",
    "        value_bound += items[j][0]\n",
    "        j += 1\n",
    "\n",
    "    if j < len(items):\n",
    "        value_bound += (W - total_weight) * (items[j][0] / items[j][1])\n",
    "\n",
    "    return value_bound\n",
    "\n",
    "def knapsack_branch_bound(items, W):\n",
    "    items.sort(key=lambda x: x[0] / x[1], reverse=True)\n",
    "\n",
    "    priority_queue = []\n",
    "    heapq.heappush(priority_queue, (-float('inf'), -1, 0, 0))\n",
    "\n",
    "    max_value = 0\n",
    "\n",
    "    while priority_queue:\n",
    "        _, level, value, weight = heapq.heappop(priority_queue)\n",
    "\n",
    "        if level == len(items) - 1:\n",
    "            continue\n",
    "\n",
    "        next_level = level + 1\n",
    "\n",
    "        left_value = value + items[next_level][0]\n",
    "        left_weight = weight + items[next_level][1]\n",
    "\n",
    "        if left_weight <= W and left_value > max_value:\n",
    "            max_value = left_value\n",
    "\n",
    "        left_bound = bound(next_level, left_value, left_weight, W, items)\n",
    "        if left_bound > max_value:\n",
    "            heapq.heappush(priority_queue, (-left_bound, next_level, left_value, left_weight))\n",
    "\n",
    "        right_bound = bound(next_level, value, weight, W, items)\n",
    "        if right_bound > max_value:\n",
    "            heapq.heappush(priority_queue, (-right_bound, next_level, value, weight))\n",
    "\n",
    "    return max_value\n",
    "\n",
    "items = [(60, 10), (100, 20), (120, 30)]\n",
    "W = 50  \n",
    "\n",
    "max_profit = knapsack_branch_bound(items, W)\n",
    "print(\"Maximum value:\", max_profit)\n"
   ]
  }
 ],
 "metadata": {
  "kernelspec": {
   "display_name": "Python 3",
   "language": "python",
   "name": "python3"
  },
  "language_info": {
   "codemirror_mode": {
    "name": "ipython",
    "version": 3
   },
   "file_extension": ".py",
   "mimetype": "text/x-python",
   "name": "python",
   "nbconvert_exporter": "python",
   "pygments_lexer": "ipython3",
   "version": "3.12.6"
  }
 },
 "nbformat": 4,
 "nbformat_minor": 2
}
